{
 "cells": [
  {
   "cell_type": "code",
   "execution_count": 1,
   "id": "e4e5243e-4e2d-44ac-96f5-1ccb0348eaa4",
   "metadata": {},
   "outputs": [],
   "source": [
    "import os\n",
    "import pandas as pd"
   ]
  },
  {
   "cell_type": "code",
   "execution_count": 2,
   "id": "eda4b90c-8212-4fdf-b7ce-a4faeebf6239",
   "metadata": {},
   "outputs": [
    {
     "name": "stdout",
     "output_type": "stream",
     "text": [
      "Splitting done!\n"
     ]
    }
   ],
   "source": [
    "input_folder = 'inputs'\n",
    "output_folder = 'split_outputs'\n",
    "os.makedirs(output_folder, exist_ok=True)\n",
    "\n",
    "# Loop through each CSV file in the input folder\n",
    "for filename in os.listdir(input_folder):\n",
    "    if filename.endswith('.csv'):\n",
    "        filepath = os.path.join(input_folder, filename)\n",
    "        df = pd.read_csv(filepath)\n",
    "        \n",
    "        # Split into chunks of 50\n",
    "        chunk_size = 50\n",
    "        for i in range(0, len(df), chunk_size):\n",
    "            chunk = df.iloc[i:i+chunk_size]\n",
    "            \n",
    "            # Create a new filename\n",
    "            base_filename = os.path.splitext(filename)[0]\n",
    "            output_filename = f\"{base_filename}_part{i//chunk_size + 1}.csv\"\n",
    "            output_path = os.path.join(output_folder, output_filename)\n",
    "            \n",
    "            # Save the chunk (with header)\n",
    "            chunk.to_csv(output_path, index=False)\n",
    "\n",
    "print(\"Splitting done!\")"
   ]
  },
  {
   "cell_type": "code",
   "execution_count": null,
   "id": "07e227b3-5fd6-4847-a2a5-ca8768e3e671",
   "metadata": {},
   "outputs": [],
   "source": []
  }
 ],
 "metadata": {
  "kernelspec": {
   "display_name": "Python 3 (ipykernel)",
   "language": "python",
   "name": "python3"
  },
  "language_info": {
   "codemirror_mode": {
    "name": "ipython",
    "version": 3
   },
   "file_extension": ".py",
   "mimetype": "text/x-python",
   "name": "python",
   "nbconvert_exporter": "python",
   "pygments_lexer": "ipython3",
   "version": "3.12.3"
  }
 },
 "nbformat": 4,
 "nbformat_minor": 5
}
