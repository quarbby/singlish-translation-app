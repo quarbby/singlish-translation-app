{
 "cells": [
  {
   "cell_type": "code",
   "execution_count": 1,
   "id": "fbd1b902-3040-4c75-92d3-ddd7112ecd9c",
   "metadata": {},
   "outputs": [],
   "source": [
    "import pandas as pd"
   ]
  },
  {
   "cell_type": "code",
   "execution_count": 3,
   "id": "adf8e9e9-e33f-476a-95e9-bb0664c320a6",
   "metadata": {},
   "outputs": [
    {
     "data": {
      "text/html": [
       "<div>\n",
       "<style scoped>\n",
       "    .dataframe tbody tr th:only-of-type {\n",
       "        vertical-align: middle;\n",
       "    }\n",
       "\n",
       "    .dataframe tbody tr th {\n",
       "        vertical-align: top;\n",
       "    }\n",
       "\n",
       "    .dataframe thead th {\n",
       "        text-align: right;\n",
       "    }\n",
       "</style>\n",
       "<table border=\"1\" class=\"dataframe\">\n",
       "  <thead>\n",
       "    <tr style=\"text-align: right;\">\n",
       "      <th></th>\n",
       "      <th>0</th>\n",
       "      <th>1</th>\n",
       "      <th>2</th>\n",
       "      <th>3</th>\n",
       "      <th>4</th>\n",
       "      <th>5</th>\n",
       "      <th>6</th>\n",
       "      <th>7</th>\n",
       "      <th>8</th>\n",
       "    </tr>\n",
       "  </thead>\n",
       "  <tbody>\n",
       "    <tr>\n",
       "      <th>0</th>\n",
       "      <td>2025-04-17 19:48:06.398</td>\n",
       "      <td>2025-04-17T23-47-44-458Z</td>\n",
       "      <td>lynnette</td>\n",
       "      <td>inputs/LalamoveUnofficialSG_messages59.csv</td>\n",
       "      <td>Can hit more than petrol lo</td>\n",
       "      <td>I can hit more than petrol with this.</td>\n",
       "      <td>translated</td>\n",
       "      <td>lor (lo)</td>\n",
       "      <td>Indicates a sense of obviousness and resignation</td>\n",
       "    </tr>\n",
       "    <tr>\n",
       "      <th>1</th>\n",
       "      <td>2025-04-17 19:51:08.711</td>\n",
       "      <td>2025-04-17T23-50-56-279Z</td>\n",
       "      <td>lynnette</td>\n",
       "      <td>inputs/sgxpennystocksdiscussion_messages310.csv</td>\n",
       "      <td>I know u inside this chat laughing</td>\n",
       "      <td>I know you are inside this chat and laughing.</td>\n",
       "      <td>translated</td>\n",
       "      <td>no_particle</td>\n",
       "      <td>NaN</td>\n",
       "    </tr>\n",
       "  </tbody>\n",
       "</table>\n",
       "</div>"
      ],
      "text/plain": [
       "                        0                         1         2  \\\n",
       "0 2025-04-17 19:48:06.398  2025-04-17T23-47-44-458Z  lynnette   \n",
       "1 2025-04-17 19:51:08.711  2025-04-17T23-50-56-279Z  lynnette   \n",
       "\n",
       "                                                 3  \\\n",
       "0       inputs/LalamoveUnofficialSG_messages59.csv   \n",
       "1  inputs/sgxpennystocksdiscussion_messages310.csv   \n",
       "\n",
       "                                    4  \\\n",
       "0         Can hit more than petrol lo   \n",
       "1  I know u inside this chat laughing   \n",
       "\n",
       "                                               5           6            7  \\\n",
       "0          I can hit more than petrol with this.  translated     lor (lo)   \n",
       "1  I know you are inside this chat and laughing.  translated  no_particle   \n",
       "\n",
       "                                                  8  \n",
       "0  Indicates a sense of obviousness and resignation  \n",
       "1                                               NaN  "
      ]
     },
     "execution_count": 3,
     "metadata": {},
     "output_type": "execute_result"
    }
   ],
   "source": [
    "df = pd.read_excel('Translations.xlsx', sheet_name=\"ALL_TRANSLATIONS\", header=None)\n",
    "df.head(2)"
   ]
  },
  {
   "cell_type": "code",
   "execution_count": 6,
   "id": "5a1badeb-5b02-47c6-b53b-807b05ad9385",
   "metadata": {},
   "outputs": [
    {
     "data": {
      "text/html": [
       "<div>\n",
       "<style scoped>\n",
       "    .dataframe tbody tr th:only-of-type {\n",
       "        vertical-align: middle;\n",
       "    }\n",
       "\n",
       "    .dataframe tbody tr th {\n",
       "        vertical-align: top;\n",
       "    }\n",
       "\n",
       "    .dataframe thead th {\n",
       "        text-align: right;\n",
       "    }\n",
       "</style>\n",
       "<table border=\"1\" class=\"dataframe\">\n",
       "  <thead>\n",
       "    <tr style=\"text-align: right;\">\n",
       "      <th></th>\n",
       "      <th>0</th>\n",
       "      <th>1</th>\n",
       "      <th>2</th>\n",
       "      <th>3</th>\n",
       "      <th>4</th>\n",
       "      <th>5</th>\n",
       "      <th>6</th>\n",
       "      <th>7</th>\n",
       "      <th>8</th>\n",
       "      <th>filename</th>\n",
       "    </tr>\n",
       "  </thead>\n",
       "  <tbody>\n",
       "    <tr>\n",
       "      <th>0</th>\n",
       "      <td>2025-04-17 19:48:06.398</td>\n",
       "      <td>2025-04-17T23-47-44-458Z</td>\n",
       "      <td>lynnette</td>\n",
       "      <td>inputs/LalamoveUnofficialSG_messages59.csv</td>\n",
       "      <td>Can hit more than petrol lo</td>\n",
       "      <td>I can hit more than petrol with this.</td>\n",
       "      <td>translated</td>\n",
       "      <td>lor (lo)</td>\n",
       "      <td>Indicates a sense of obviousness and resignation</td>\n",
       "      <td>LalamoveUnofficialSG_messages59.csv</td>\n",
       "    </tr>\n",
       "    <tr>\n",
       "      <th>1</th>\n",
       "      <td>2025-04-17 19:51:08.711</td>\n",
       "      <td>2025-04-17T23-50-56-279Z</td>\n",
       "      <td>lynnette</td>\n",
       "      <td>inputs/sgxpennystocksdiscussion_messages310.csv</td>\n",
       "      <td>I know u inside this chat laughing</td>\n",
       "      <td>I know you are inside this chat and laughing.</td>\n",
       "      <td>translated</td>\n",
       "      <td>no_particle</td>\n",
       "      <td>NaN</td>\n",
       "      <td>sgxpennystocksdiscussion_messages310.csv</td>\n",
       "    </tr>\n",
       "  </tbody>\n",
       "</table>\n",
       "</div>"
      ],
      "text/plain": [
       "                        0                         1         2  \\\n",
       "0 2025-04-17 19:48:06.398  2025-04-17T23-47-44-458Z  lynnette   \n",
       "1 2025-04-17 19:51:08.711  2025-04-17T23-50-56-279Z  lynnette   \n",
       "\n",
       "                                                 3  \\\n",
       "0       inputs/LalamoveUnofficialSG_messages59.csv   \n",
       "1  inputs/sgxpennystocksdiscussion_messages310.csv   \n",
       "\n",
       "                                    4  \\\n",
       "0         Can hit more than petrol lo   \n",
       "1  I know u inside this chat laughing   \n",
       "\n",
       "                                               5           6            7  \\\n",
       "0          I can hit more than petrol with this.  translated     lor (lo)   \n",
       "1  I know you are inside this chat and laughing.  translated  no_particle   \n",
       "\n",
       "                                                  8  \\\n",
       "0  Indicates a sense of obviousness and resignation   \n",
       "1                                               NaN   \n",
       "\n",
       "                                   filename  \n",
       "0       LalamoveUnofficialSG_messages59.csv  \n",
       "1  sgxpennystocksdiscussion_messages310.csv  "
      ]
     },
     "execution_count": 6,
     "metadata": {},
     "output_type": "execute_result"
    }
   ],
   "source": [
    "df['filename'] = df[3].apply(lambda x: x.replace('inputs/', ''))\n",
    "df.head(2)"
   ]
  },
  {
   "cell_type": "code",
   "execution_count": 7,
   "id": "570883ad-92b9-4a75-afc7-5ac43b2421b2",
   "metadata": {},
   "outputs": [],
   "source": [
    "value_counts = df['filename'].value_counts()\n",
    "frequent_values = value_counts[value_counts >= 50].index.tolist()"
   ]
  },
  {
   "cell_type": "code",
   "execution_count": 8,
   "id": "bbd5ada1-6b41-4570-aa95-846be4c90cac",
   "metadata": {},
   "outputs": [
    {
     "data": {
      "text/plain": [
       "['SGTalk_messages283.csv', 'SGExamsChat_messages665_part1.csv']"
      ]
     },
     "execution_count": 8,
     "metadata": {},
     "output_type": "execute_result"
    }
   ],
   "source": [
    "frequent_values"
   ]
  },
  {
   "cell_type": "code",
   "execution_count": null,
   "id": "50195741-e8cd-4d77-994a-4e81f8c05b3b",
   "metadata": {},
   "outputs": [],
   "source": []
  }
 ],
 "metadata": {
  "kernelspec": {
   "display_name": "Python 3 (ipykernel)",
   "language": "python",
   "name": "python3"
  },
  "language_info": {
   "codemirror_mode": {
    "name": "ipython",
    "version": 3
   },
   "file_extension": ".py",
   "mimetype": "text/x-python",
   "name": "python",
   "nbconvert_exporter": "python",
   "pygments_lexer": "ipython3",
   "version": "3.12.3"
  }
 },
 "nbformat": 4,
 "nbformat_minor": 5
}
